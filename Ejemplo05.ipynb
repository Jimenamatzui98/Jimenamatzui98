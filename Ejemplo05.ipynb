{
  "nbformat": 4,
  "nbformat_minor": 0,
  "metadata": {
    "colab": {
      "provenance": []
    },
    "kernelspec": {
      "name": "python3",
      "display_name": "Python 3"
    },
    "language_info": {
      "name": "python"
    }
  },
  "cells": [
    {
      "cell_type": "markdown",
      "source": [
        "# Ejemplo 5: Bibliotecas para configurar redes neuronales\n",
        "\n",
        "## Scikit Learn"
      ],
      "metadata": {
        "id": "1mtdBy-6GrXW"
      }
    },
    {
      "cell_type": "code",
      "source": [
        "# Importa las bibliotecas necesarias\n",
        "from sklearn.datasets import load_iris\n",
        "from sklearn.model_selection import train_test_split\n",
        "from sklearn.neural_network import MLPClassifier\n",
        "from sklearn.metrics import accuracy_score\n",
        "\n",
        "# Carga el conjunto de datos Iris\n",
        "data = load_iris()\n",
        "X = data.data\n",
        "y = data.target\n",
        "\n",
        "# Divide los datos en conjuntos de entrenamiento y prueba\n",
        "X_train, X_test, y_train, y_test = train_test_split(X, y, test_size=0.2, random_state=42)\n",
        "\n",
        "# Configura y entrena el modelo MLPClassifier\n",
        "model = MLPClassifier(hidden_layer_sizes=(64, 32), activation='relu', solver='adam', max_iter=1000, random_state=42)\n",
        "model.fit(X_train, y_train)\n",
        "\n",
        "# Realiza predicciones en el conjunto de prueba\n",
        "y_pred = model.predict(X_test)\n",
        "\n",
        "# Evalúa el modelo utilizando la precisión (accuracy)\n",
        "accuracy = accuracy_score(y_test, y_pred)\n",
        "print(f\"Precisión del modelo: {accuracy * 100:.2f}%\")\n"
      ],
      "metadata": {
        "id": "gFbeFCLeG2Uh",
        "colab": {
          "base_uri": "https://localhost:8080/"
        },
        "outputId": "d42b39b1-4054-44c0-a2c5-a176de2a75ae"
      },
      "execution_count": 3,
      "outputs": [
        {
          "output_type": "stream",
          "name": "stdout",
          "text": [
            "Precisión del modelo: 100.00%\n"
          ]
        }
      ]
    },
    {
      "cell_type": "markdown",
      "source": [
        "## Tensorflow"
      ],
      "metadata": {
        "id": "wHDXm8wVIp3B"
      }
    },
    {
      "cell_type": "code",
      "source": [
        "import tensorflow as tf\n",
        "from sklearn.datasets import load_iris\n",
        "from sklearn.model_selection import train_test_split\n",
        "from sklearn.preprocessing import StandardScaler\n",
        "from sklearn.metrics import accuracy_score\n",
        "\n",
        "# Carga el conjunto de datos Iris\n",
        "data = load_iris()\n",
        "X = data.data\n",
        "y = data.target\n",
        "\n",
        "# Divide los datos en conjuntos de entrenamiento y prueba\n",
        "X_train, X_test, y_train, y_test = train_test_split(X, y, test_size=0.2, random_state=42)\n",
        "\n",
        "# Normaliza los datos (opcional pero recomendado)\n",
        "scaler = StandardScaler()\n",
        "X_train = scaler.fit_transform(X_train)\n",
        "X_test = scaler.transform(X_test)\n",
        "\n",
        "# Define el modelo de la red neuronal utilizando TensorFlow\n",
        "model = tf.keras.Sequential([\n",
        "    tf.keras.layers.Input(shape=(X_train.shape[1],)),  # Capa de entrada\n",
        "    tf.keras.layers.Dense(64, activation='relu'),     # Capa oculta con 64 neuronas y función de activación ReLU\n",
        "    tf.keras.layers.Dense(32, activation='relu'),     # Capa oculta con 32 neuronas y función de activación ReLU\n",
        "    tf.keras.layers.Dense(3, activation='softmax')    # Capa de salida con 3 neuronas (clases) y función de activación softmax\n",
        "])\n",
        "\n",
        "# Compila el modelo\n",
        "model.compile(optimizer='adam', loss='sparse_categorical_crossentropy', metrics=['accuracy'])\n",
        "\n",
        "# Entrena el modelo\n",
        "model.fit(X_train, y_train, epochs=50, batch_size=32, validation_split=0.2)\n",
        "\n",
        "# Evalúa el modelo en el conjunto de prueba\n",
        "y_pred = model.predict(X_test)\n",
        "y_pred_classes = [tf.argmax(pred).numpy() for pred in y_pred]\n",
        "accuracy = accuracy_score(y_test, y_pred_classes)\n",
        "print(f\"Precisión del modelo: {accuracy * 100:.2f}%\")\n"
      ],
      "metadata": {
        "id": "QnsA7l4zLNe4",
        "colab": {
          "base_uri": "https://localhost:8080/"
        },
        "outputId": "6e68da36-a61f-401d-9329-4569930a9149"
      },
      "execution_count": 4,
      "outputs": [
        {
          "output_type": "stream",
          "name": "stdout",
          "text": [
            "Epoch 1/50\n",
            "3/3 [==============================] - 1s 118ms/step - loss: 1.0672 - accuracy: 0.4062 - val_loss: 1.0195 - val_accuracy: 0.6667\n",
            "Epoch 2/50\n",
            "3/3 [==============================] - 0s 18ms/step - loss: 0.9979 - accuracy: 0.6250 - val_loss: 0.9643 - val_accuracy: 0.6667\n",
            "Epoch 3/50\n",
            "3/3 [==============================] - 0s 17ms/step - loss: 0.9403 - accuracy: 0.7500 - val_loss: 0.9119 - val_accuracy: 0.7083\n",
            "Epoch 4/50\n",
            "3/3 [==============================] - 0s 16ms/step - loss: 0.8857 - accuracy: 0.8229 - val_loss: 0.8643 - val_accuracy: 0.7917\n",
            "Epoch 5/50\n",
            "3/3 [==============================] - 0s 16ms/step - loss: 0.8341 - accuracy: 0.8333 - val_loss: 0.8212 - val_accuracy: 0.7917\n",
            "Epoch 6/50\n",
            "3/3 [==============================] - 0s 17ms/step - loss: 0.7867 - accuracy: 0.8333 - val_loss: 0.7816 - val_accuracy: 0.7917\n",
            "Epoch 7/50\n",
            "3/3 [==============================] - 0s 17ms/step - loss: 0.7444 - accuracy: 0.8333 - val_loss: 0.7435 - val_accuracy: 0.7917\n",
            "Epoch 8/50\n",
            "3/3 [==============================] - 0s 18ms/step - loss: 0.7037 - accuracy: 0.8333 - val_loss: 0.7083 - val_accuracy: 0.7917\n",
            "Epoch 9/50\n",
            "3/3 [==============================] - 0s 16ms/step - loss: 0.6655 - accuracy: 0.8229 - val_loss: 0.6766 - val_accuracy: 0.8750\n",
            "Epoch 10/50\n",
            "3/3 [==============================] - 0s 20ms/step - loss: 0.6317 - accuracy: 0.8229 - val_loss: 0.6469 - val_accuracy: 0.8750\n",
            "Epoch 11/50\n",
            "3/3 [==============================] - 0s 19ms/step - loss: 0.6005 - accuracy: 0.8229 - val_loss: 0.6194 - val_accuracy: 0.8750\n",
            "Epoch 12/50\n",
            "3/3 [==============================] - 0s 16ms/step - loss: 0.5711 - accuracy: 0.8229 - val_loss: 0.5934 - val_accuracy: 0.8750\n",
            "Epoch 13/50\n",
            "3/3 [==============================] - 0s 16ms/step - loss: 0.5440 - accuracy: 0.8229 - val_loss: 0.5697 - val_accuracy: 0.8750\n",
            "Epoch 14/50\n",
            "3/3 [==============================] - 0s 17ms/step - loss: 0.5191 - accuracy: 0.8229 - val_loss: 0.5478 - val_accuracy: 0.8750\n",
            "Epoch 15/50\n",
            "3/3 [==============================] - 0s 17ms/step - loss: 0.4964 - accuracy: 0.8125 - val_loss: 0.5275 - val_accuracy: 0.8750\n",
            "Epoch 16/50\n",
            "3/3 [==============================] - 0s 19ms/step - loss: 0.4755 - accuracy: 0.8125 - val_loss: 0.5091 - val_accuracy: 0.8750\n",
            "Epoch 17/50\n",
            "3/3 [==============================] - 0s 17ms/step - loss: 0.4562 - accuracy: 0.8125 - val_loss: 0.4926 - val_accuracy: 0.8750\n",
            "Epoch 18/50\n",
            "3/3 [==============================] - 0s 18ms/step - loss: 0.4387 - accuracy: 0.8229 - val_loss: 0.4763 - val_accuracy: 0.8750\n",
            "Epoch 19/50\n",
            "3/3 [==============================] - 0s 17ms/step - loss: 0.4234 - accuracy: 0.8229 - val_loss: 0.4641 - val_accuracy: 0.8750\n",
            "Epoch 20/50\n",
            "3/3 [==============================] - 0s 18ms/step - loss: 0.4078 - accuracy: 0.8229 - val_loss: 0.4512 - val_accuracy: 0.8750\n",
            "Epoch 21/50\n",
            "3/3 [==============================] - 0s 20ms/step - loss: 0.3945 - accuracy: 0.8229 - val_loss: 0.4400 - val_accuracy: 0.8750\n",
            "Epoch 22/50\n",
            "3/3 [==============================] - 0s 18ms/step - loss: 0.3814 - accuracy: 0.8229 - val_loss: 0.4300 - val_accuracy: 0.9167\n",
            "Epoch 23/50\n",
            "3/3 [==============================] - 0s 16ms/step - loss: 0.3692 - accuracy: 0.8333 - val_loss: 0.4199 - val_accuracy: 0.9167\n",
            "Epoch 24/50\n",
            "3/3 [==============================] - 0s 17ms/step - loss: 0.3589 - accuracy: 0.8229 - val_loss: 0.4099 - val_accuracy: 0.9167\n",
            "Epoch 25/50\n",
            "3/3 [==============================] - 0s 17ms/step - loss: 0.3484 - accuracy: 0.8333 - val_loss: 0.4021 - val_accuracy: 0.9167\n",
            "Epoch 26/50\n",
            "3/3 [==============================] - 0s 18ms/step - loss: 0.3380 - accuracy: 0.8333 - val_loss: 0.3948 - val_accuracy: 0.9167\n",
            "Epoch 27/50\n",
            "3/3 [==============================] - 0s 28ms/step - loss: 0.3293 - accuracy: 0.8438 - val_loss: 0.3903 - val_accuracy: 0.9167\n",
            "Epoch 28/50\n",
            "3/3 [==============================] - 0s 20ms/step - loss: 0.3201 - accuracy: 0.8542 - val_loss: 0.3832 - val_accuracy: 0.9167\n",
            "Epoch 29/50\n",
            "3/3 [==============================] - 0s 17ms/step - loss: 0.3115 - accuracy: 0.8646 - val_loss: 0.3780 - val_accuracy: 0.9167\n",
            "Epoch 30/50\n",
            "3/3 [==============================] - 0s 17ms/step - loss: 0.3034 - accuracy: 0.8646 - val_loss: 0.3710 - val_accuracy: 0.9167\n",
            "Epoch 31/50\n",
            "3/3 [==============================] - 0s 17ms/step - loss: 0.2956 - accuracy: 0.8646 - val_loss: 0.3638 - val_accuracy: 0.9167\n",
            "Epoch 32/50\n",
            "3/3 [==============================] - 0s 17ms/step - loss: 0.2884 - accuracy: 0.8750 - val_loss: 0.3607 - val_accuracy: 0.9167\n",
            "Epoch 33/50\n",
            "3/3 [==============================] - 0s 16ms/step - loss: 0.2807 - accuracy: 0.8854 - val_loss: 0.3555 - val_accuracy: 0.9167\n",
            "Epoch 34/50\n",
            "3/3 [==============================] - 0s 17ms/step - loss: 0.2735 - accuracy: 0.8854 - val_loss: 0.3515 - val_accuracy: 0.9167\n",
            "Epoch 35/50\n",
            "3/3 [==============================] - 0s 17ms/step - loss: 0.2668 - accuracy: 0.8958 - val_loss: 0.3462 - val_accuracy: 0.9167\n",
            "Epoch 36/50\n",
            "3/3 [==============================] - 0s 17ms/step - loss: 0.2615 - accuracy: 0.8958 - val_loss: 0.3443 - val_accuracy: 0.9167\n",
            "Epoch 37/50\n",
            "3/3 [==============================] - 0s 17ms/step - loss: 0.2537 - accuracy: 0.9167 - val_loss: 0.3389 - val_accuracy: 0.9167\n",
            "Epoch 38/50\n",
            "3/3 [==============================] - 0s 16ms/step - loss: 0.2477 - accuracy: 0.9271 - val_loss: 0.3330 - val_accuracy: 0.9167\n",
            "Epoch 39/50\n",
            "3/3 [==============================] - 0s 19ms/step - loss: 0.2418 - accuracy: 0.9271 - val_loss: 0.3286 - val_accuracy: 0.9583\n",
            "Epoch 40/50\n",
            "3/3 [==============================] - 0s 17ms/step - loss: 0.2368 - accuracy: 0.9375 - val_loss: 0.3201 - val_accuracy: 0.9583\n",
            "Epoch 41/50\n",
            "3/3 [==============================] - 0s 17ms/step - loss: 0.2307 - accuracy: 0.9375 - val_loss: 0.3186 - val_accuracy: 0.9583\n",
            "Epoch 42/50\n",
            "3/3 [==============================] - 0s 28ms/step - loss: 0.2247 - accuracy: 0.9271 - val_loss: 0.3145 - val_accuracy: 0.9583\n",
            "Epoch 43/50\n",
            "3/3 [==============================] - 0s 17ms/step - loss: 0.2190 - accuracy: 0.9271 - val_loss: 0.3100 - val_accuracy: 0.9583\n",
            "Epoch 44/50\n",
            "3/3 [==============================] - 0s 16ms/step - loss: 0.2146 - accuracy: 0.9271 - val_loss: 0.3040 - val_accuracy: 0.9583\n",
            "Epoch 45/50\n",
            "3/3 [==============================] - 0s 17ms/step - loss: 0.2089 - accuracy: 0.9479 - val_loss: 0.3029 - val_accuracy: 0.9583\n",
            "Epoch 46/50\n",
            "3/3 [==============================] - 0s 16ms/step - loss: 0.2036 - accuracy: 0.9375 - val_loss: 0.3012 - val_accuracy: 0.9583\n",
            "Epoch 47/50\n",
            "3/3 [==============================] - 0s 19ms/step - loss: 0.1988 - accuracy: 0.9375 - val_loss: 0.3000 - val_accuracy: 0.9583\n",
            "Epoch 48/50\n",
            "3/3 [==============================] - 0s 18ms/step - loss: 0.1939 - accuracy: 0.9375 - val_loss: 0.2968 - val_accuracy: 0.9583\n",
            "Epoch 49/50\n",
            "3/3 [==============================] - 0s 17ms/step - loss: 0.1891 - accuracy: 0.9375 - val_loss: 0.2933 - val_accuracy: 0.9583\n",
            "Epoch 50/50\n",
            "3/3 [==============================] - 0s 17ms/step - loss: 0.1844 - accuracy: 0.9375 - val_loss: 0.2877 - val_accuracy: 0.9583\n",
            "1/1 [==============================] - 0s 83ms/step\n",
            "Precisión del modelo: 100.00%\n"
          ]
        }
      ]
    },
    {
      "cell_type": "markdown",
      "source": [
        "## Problema del XOR"
      ],
      "metadata": {
        "id": "rIpHHb6UNCZw"
      }
    },
    {
      "cell_type": "code",
      "source": [
        "import numpy as np\n",
        "\n",
        "X = np.array([[0,0],[0,1],[1,0],[1,1]])\n",
        "Y = np.array([0,1,1,0])\n",
        "\n",
        "\n",
        "redNeuronal = MLPClassifier(hidden_layer_sizes=(4,2),\n",
        "                            max_iter=20000,\n",
        "                            activation ='logistic',\n",
        "                            tol= 1e-7)\n",
        "\n",
        "# tol se utiliza para establecer un criterio de tolerancia para la convergencia\n",
        "# durante el proceso de entrenamiento de la red neuronal. Más específicamente,\n",
        "# tol controla cuándo se considera que el entrenamiento ha convergido y se\n",
        "# detiene.\n",
        "\n",
        "# La notación 1e-7 representa 0.0000001 en notación científica, es decir, un\n",
        "# número muy pequeño. En este contexto, tol=1e-7 significa que el entrenamiento\n",
        "# se detendrá cuando la mejora en la función de pérdida sea menor o igual a\n",
        "#0.0000001 entre dos épocas consecutivas.\n",
        "\n",
        "redNeuronal.fit(X, Y)\n",
        "Y_pred = redNeuronal.predict(X)\n",
        "print(Y_pred)"
      ],
      "metadata": {
        "colab": {
          "base_uri": "https://localhost:8080/"
        },
        "id": "jijENiiuNBa6",
        "outputId": "5eea1db4-8b23-4644-fb9d-ae818530659c"
      },
      "execution_count": 7,
      "outputs": [
        {
          "output_type": "stream",
          "name": "stdout",
          "text": [
            "[0 1 1 0]\n"
          ]
        }
      ]
    }
  ]
}